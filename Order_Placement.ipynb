{
 "cells": [
  {
   "cell_type": "markdown",
   "metadata": {},
   "source": [
    "# Importing Libraries"
   ]
  },
  {
   "cell_type": "code",
   "execution_count": 51,
   "metadata": {},
   "outputs": [],
   "source": [
    "import pandas as pd\n",
    "import numpy as np\n",
    "import matplotlib.pyplot as plt\n",
    "import seaborn as sns\n",
    "import pandas_datareader.data as web\n",
    "from datetime import datetime\n",
    "%matplotlib inline\n",
    "\n",
    "import pandas_datareader as pdr\n",
    "\n",
    "\n",
    "import matplotlib.pyplot as plt\n",
    "from scipy.optimize import minimize\n",
    "import statsmodels.api as sm\n",
    "from scipy.stats import norm\n",
    "\n",
    "import statsmodels.api as sm\n",
    "import datetime\n",
    "\n",
    "import talib\n",
    "import ta\n",
    "\n",
    "#from talib import EMA, DEMA\n",
    "\n",
    "#from backtesting import Backtest, Strategy\n",
    "#from backtesting.lib import crossover\n",
    "from ibapi.client import EClient\n",
    "from ibapi.wrapper import EWrapper\n",
    "from ibapi.contract import Contract\n",
    "from ibapi.order import *\n",
    "from ibapi.utils import iswrapper\n",
    "import threading\n",
    "import time\n",
    "import pandas as pd\n",
    "import numpy as np\n",
    "import ta\n",
    "from IPython.display import clear_output"
   ]
  },
  {
   "cell_type": "code",
   "execution_count": 52,
   "metadata": {},
   "outputs": [],
   "source": [
    "start_date = \"2020-01-01\"\n",
    "end_date = datetime.datetime.today().date().strftime('%Y-%m-%d')\n"
   ]
  },
  {
   "cell_type": "markdown",
   "metadata": {},
   "source": [
    "# Fetching TEST data"
   ]
  },
  {
   "cell_type": "code",
   "execution_count": 53,
   "metadata": {},
   "outputs": [],
   "source": [
    "companies = ['NEM', 'KR', 'AWK', 'NVDA', 'DG'] \n",
    "final = pd.DataFrame()\n",
    "final = final.fillna(0)"
   ]
  },
  {
   "cell_type": "code",
   "execution_count": 54,
   "metadata": {},
   "outputs": [
    {
     "name": "stdout",
     "output_type": "stream",
     "text": [
      "NEM\n",
      "KR\n"
     ]
    },
    {
     "name": "stderr",
     "output_type": "stream",
     "text": [
      "C:\\ProgramData\\Anaconda3\\lib\\site-packages\\ipykernel_launcher.py:65: FutureWarning: Sorting because non-concatenation axis is not aligned. A future version\n",
      "of pandas will change to not sort by default.\n",
      "\n",
      "To accept the future behavior, pass 'sort=False'.\n",
      "\n",
      "To retain the current behavior and silence the warning, pass 'sort=True'.\n",
      "\n"
     ]
    },
    {
     "name": "stdout",
     "output_type": "stream",
     "text": [
      "AWK\n"
     ]
    },
    {
     "name": "stderr",
     "output_type": "stream",
     "text": [
      "C:\\ProgramData\\Anaconda3\\lib\\site-packages\\ipykernel_launcher.py:65: FutureWarning: Sorting because non-concatenation axis is not aligned. A future version\n",
      "of pandas will change to not sort by default.\n",
      "\n",
      "To accept the future behavior, pass 'sort=False'.\n",
      "\n",
      "To retain the current behavior and silence the warning, pass 'sort=True'.\n",
      "\n"
     ]
    },
    {
     "name": "stdout",
     "output_type": "stream",
     "text": [
      "NVDA\n"
     ]
    },
    {
     "name": "stderr",
     "output_type": "stream",
     "text": [
      "C:\\ProgramData\\Anaconda3\\lib\\site-packages\\ipykernel_launcher.py:65: FutureWarning: Sorting because non-concatenation axis is not aligned. A future version\n",
      "of pandas will change to not sort by default.\n",
      "\n",
      "To accept the future behavior, pass 'sort=False'.\n",
      "\n",
      "To retain the current behavior and silence the warning, pass 'sort=True'.\n",
      "\n"
     ]
    },
    {
     "name": "stdout",
     "output_type": "stream",
     "text": [
      "DG\n"
     ]
    },
    {
     "name": "stderr",
     "output_type": "stream",
     "text": [
      "C:\\ProgramData\\Anaconda3\\lib\\site-packages\\ipykernel_launcher.py:65: FutureWarning: Sorting because non-concatenation axis is not aligned. A future version\n",
      "of pandas will change to not sort by default.\n",
      "\n",
      "To accept the future behavior, pass 'sort=False'.\n",
      "\n",
      "To retain the current behavior and silence the warning, pass 'sort=True'.\n",
      "\n"
     ]
    }
   ],
   "source": [
    "for i in companies:\n",
    "    \n",
    "    df_d = pdr.get_data_yahoo(i, start_date, end_date)\n",
    "\n",
    "    df_d.sort_values([\"Date\"], axis=0, ascending=True, inplace=True)\n",
    "    df_d.reset_index(inplace = True)\n",
    "    \n",
    "    df = pd.DataFrame()\n",
    "    df = df.fillna(0)\n",
    "    df = df_d[['Date','Open','High','Low','Close','Volume']]\n",
    "\n",
    "           \n",
    "            \n",
    "    op = df['Open'].astype(float)\n",
    "    hi = df['High'].astype(float)\n",
    "    lo = df['Low'].astype(float)\n",
    "    cl = df['Close'].astype(float)\n",
    "\n",
    "\n",
    "    #df['Sym']=item \n",
    "    #df['Timeframe'] = i\n",
    "\n",
    "\n",
    "\n",
    "         #------------DOJI---------------#\n",
    "\n",
    "    #df['CDLDOJI']            = talib.CDLDOJI(op, hi, lo, cl)\n",
    "\n",
    "\n",
    "    df['ATR'] = talib.ATR(hi, lo, cl)\n",
    "    df['Stop_Loss'] = df['Close'] - df['ATR']\n",
    "    df['Take_Profit'] = df['Close'] + 2 * df['ATR']\n",
    "    df['Entry_Price'] = (df['High'] + df['Low'])/2   \n",
    "    df['Asset'] = i\n",
    "    df['UNITS'] = 10   \n",
    "\n",
    "    \n",
    "    '''\n",
    "    df[i+'_Date'] = df['Date']\n",
    "    df[i+'_Close'] = df['Close']\n",
    "    df[i+'TP'] = df['Take_Profit']\n",
    "    df[i+'SL'] = df['Stop_Loss']\n",
    "\n",
    "    df[i+'_ATR'] = df['ATR']\n",
    "\n",
    "    df[i+'_Date'] = df['Date']\n",
    "    '''\n",
    "    for j, row in df.iterrows():\n",
    "        \n",
    "        if df.loc[j,'Entry_Price'] > df.loc[j,'Close']:\n",
    "            df.loc[j,'Action'] = 'Hold'\n",
    "        elif df.loc[j,'Entry_Price']<= df.loc[j,'Close']:\n",
    "            df.loc[j,'Action'] = 'Buy'\n",
    "\n",
    "    \n",
    "    \n",
    "    \n",
    "    \n",
    "    df = df.tail(1)\n",
    "    print(i)      \n",
    "    \n",
    "    #df = df[[i+'Date', i+'Close', i+'ATR']]\n",
    "    #df=df.drop(['Date','Close','Low','Open','High','Volume','Stop_Loss','Take_Profit'], axis=1)\n",
    "\n",
    "    final =pd.concat([final, df], axis=0)\n",
    "    #final=final.drop(['Date','Low','Open','High','Volume'], axis=1)\n",
    "    #final = final.append(df, ignore_index=True)\n",
    "    final = final[['Date','Asset','Close','Stop_Loss','Take_Profit','Entry_Price','ATR','UNITS','Action']]\n",
    "    final.reset_index(inplace = True)\n",
    " "
   ]
  },
  {
   "cell_type": "code",
   "execution_count": 55,
   "metadata": {},
   "outputs": [
    {
     "data": {
      "text/html": [
       "<div>\n",
       "<style scoped>\n",
       "    .dataframe tbody tr th:only-of-type {\n",
       "        vertical-align: middle;\n",
       "    }\n",
       "\n",
       "    .dataframe tbody tr th {\n",
       "        vertical-align: top;\n",
       "    }\n",
       "\n",
       "    .dataframe thead th {\n",
       "        text-align: right;\n",
       "    }\n",
       "</style>\n",
       "<table border=\"1\" class=\"dataframe\">\n",
       "  <thead>\n",
       "    <tr style=\"text-align: right;\">\n",
       "      <th></th>\n",
       "      <th>index</th>\n",
       "      <th>Date</th>\n",
       "      <th>Asset</th>\n",
       "      <th>Close</th>\n",
       "      <th>Stop_Loss</th>\n",
       "      <th>Take_Profit</th>\n",
       "      <th>Entry_Price</th>\n",
       "      <th>ATR</th>\n",
       "      <th>UNITS</th>\n",
       "      <th>Action</th>\n",
       "    </tr>\n",
       "  </thead>\n",
       "  <tbody>\n",
       "    <tr>\n",
       "      <th>0</th>\n",
       "      <td>0</td>\n",
       "      <td>2020-06-26</td>\n",
       "      <td>NEM</td>\n",
       "      <td>57.980000</td>\n",
       "      <td>55.683057</td>\n",
       "      <td>62.573884</td>\n",
       "      <td>58.109999</td>\n",
       "      <td>2.296942</td>\n",
       "      <td>10</td>\n",
       "      <td>Hold</td>\n",
       "    </tr>\n",
       "    <tr>\n",
       "      <th>1</th>\n",
       "      <td>1</td>\n",
       "      <td>2020-06-26</td>\n",
       "      <td>KR</td>\n",
       "      <td>32.935001</td>\n",
       "      <td>31.962591</td>\n",
       "      <td>34.879821</td>\n",
       "      <td>32.762501</td>\n",
       "      <td>0.972410</td>\n",
       "      <td>10</td>\n",
       "      <td>Buy</td>\n",
       "    </tr>\n",
       "    <tr>\n",
       "      <th>2</th>\n",
       "      <td>2</td>\n",
       "      <td>2020-06-26</td>\n",
       "      <td>AWK</td>\n",
       "      <td>124.830002</td>\n",
       "      <td>121.285542</td>\n",
       "      <td>131.918921</td>\n",
       "      <td>123.355000</td>\n",
       "      <td>3.544459</td>\n",
       "      <td>10</td>\n",
       "      <td>Buy</td>\n",
       "    </tr>\n",
       "    <tr>\n",
       "      <th>3</th>\n",
       "      <td>3</td>\n",
       "      <td>2020-06-26</td>\n",
       "      <td>NVDA</td>\n",
       "      <td>373.549988</td>\n",
       "      <td>360.625902</td>\n",
       "      <td>399.398160</td>\n",
       "      <td>376.545044</td>\n",
       "      <td>12.924086</td>\n",
       "      <td>10</td>\n",
       "      <td>Hold</td>\n",
       "    </tr>\n",
       "    <tr>\n",
       "      <th>4</th>\n",
       "      <td>123</td>\n",
       "      <td>2020-06-26</td>\n",
       "      <td>DG</td>\n",
       "      <td>193.320007</td>\n",
       "      <td>188.694390</td>\n",
       "      <td>202.571241</td>\n",
       "      <td>191.805000</td>\n",
       "      <td>4.625617</td>\n",
       "      <td>10</td>\n",
       "      <td>Buy</td>\n",
       "    </tr>\n",
       "  </tbody>\n",
       "</table>\n",
       "</div>"
      ],
      "text/plain": [
       "   index       Date Asset       Close   Stop_Loss  Take_Profit  Entry_Price  \\\n",
       "0      0 2020-06-26   NEM   57.980000   55.683057    62.573884    58.109999   \n",
       "1      1 2020-06-26    KR   32.935001   31.962591    34.879821    32.762501   \n",
       "2      2 2020-06-26   AWK  124.830002  121.285542   131.918921   123.355000   \n",
       "3      3 2020-06-26  NVDA  373.549988  360.625902   399.398160   376.545044   \n",
       "4    123 2020-06-26    DG  193.320007  188.694390   202.571241   191.805000   \n",
       "\n",
       "         ATR  UNITS Action  \n",
       "0   2.296942     10   Hold  \n",
       "1   0.972410     10    Buy  \n",
       "2   3.544459     10    Buy  \n",
       "3  12.924086     10   Hold  \n",
       "4   4.625617     10    Buy  "
      ]
     },
     "execution_count": 55,
     "metadata": {},
     "output_type": "execute_result"
    }
   ],
   "source": [
    "final"
   ]
  },
  {
   "cell_type": "markdown",
   "metadata": {},
   "source": [
    "# IB Order Pacement"
   ]
  },
  {
   "cell_type": "code",
   "execution_count": 44,
   "metadata": {},
   "outputs": [],
   "source": [
    "class IBapi(EWrapper, EClient):\n",
    "        \n",
    "    def __init__(self):\n",
    "        EClient.__init__(self, self)\n",
    "\n",
    "    @iswrapper\n",
    "    def nextValidId(self, orderId: int):\n",
    "        super().nextValidId(orderId)\n",
    "        self.nextorderId = orderId\n",
    "        print('The next valid order id is: ', self.nextorderId)\n",
    "\n",
    "    def orderStatus(self, orderId, status, filled, remaining, avgFullPrice, permId, parentId, lastFillPrice, clientId,\n",
    "                               whyHeld, mktCapPrice):\n",
    "        print('orderStatus - orderid:', orderId, 'status:', status, 'filled', filled, 'remaining', remaining,\n",
    "                   'lastFillPrice', lastFillPrice)\n",
    "\n",
    "    def openOrder(self, orderId, contract, order, orderState):\n",
    "        print('openOrder id:', orderId, contract.symbol, contract.secType, '@', contract.exchange, ':', order.action,\n",
    "                   order.orderType, order.totalQuantity, orderState.status)\n",
    "\n",
    "    def execDetails(self, reqId, contract, execution):\n",
    "        print('Order Executed: ', reqId, contract.symbol, contract.secType, contract.currency, execution.execId,\n",
    "                   execution.orderId, execution.shares, execution.lastLiquidity)"
   ]
  },
  {
   "cell_type": "code",
   "execution_count": 45,
   "metadata": {},
   "outputs": [],
   "source": [
    "\n",
    "def run_loop():\n",
    "    app.run()\n",
    "\n",
    "\n",
    "def stx_order(symbol):\n",
    "    contract = Contract()\n",
    "    contract.symbol = symbol\n",
    "    contract.secType = 'STK'\n",
    "    contract.exchange = 'SMART'\n",
    "    contract.currency = 'USD'\n",
    "    contract.primaryExchange = 'NASDAQ'\n",
    "\n",
    "    return contract\n"
   ]
  },
  {
   "cell_type": "code",
   "execution_count": null,
   "metadata": {},
   "outputs": [],
   "source": [
    "vinay0028\n",
    "taurus16"
   ]
  },
  {
   "cell_type": "markdown",
   "metadata": {},
   "source": [
    "# Placing order in a loop from the PF table"
   ]
  },
  {
   "cell_type": "code",
   "execution_count": 47,
   "metadata": {},
   "outputs": [
    {
     "name": "stdout",
     "output_type": "stream",
     "text": [
      "waiting for connection\n",
      "waiting for connection\n",
      "waiting for connection\n",
      "waiting for connection\n",
      "waiting for connection\n",
      "waiting for connection\n",
      "waiting for connection\n",
      "waiting for connection\n",
      "waiting for connection\n",
      "waiting for connection\n",
      "waiting for connection\n",
      "waiting for connection\n",
      "waiting for connection\n",
      "waiting for connection\n",
      "waiting for connection\n",
      "waiting for connection\n",
      "waiting for connection\n",
      "waiting for connection\n",
      "waiting for connection\n",
      "waiting for connection\n",
      "waiting for connection\n",
      "waiting for connection\n"
     ]
    },
    {
     "ename": "KeyboardInterrupt",
     "evalue": "",
     "output_type": "error",
     "traceback": [
      "\u001b[1;31m---------------------------------------------------------------------------\u001b[0m",
      "\u001b[1;31mKeyboardInterrupt\u001b[0m                         Traceback (most recent call last)",
      "\u001b[1;32m<ipython-input-47-ac13d3d6b848>\u001b[0m in \u001b[0;36m<module>\u001b[1;34m\u001b[0m\n\u001b[0;32m     24\u001b[0m         \u001b[1;32melse\u001b[0m\u001b[1;33m:\u001b[0m\u001b[1;33m\u001b[0m\u001b[1;33m\u001b[0m\u001b[0m\n\u001b[0;32m     25\u001b[0m             \u001b[0mprint\u001b[0m\u001b[1;33m(\u001b[0m\u001b[1;34m'waiting for connection'\u001b[0m\u001b[1;33m)\u001b[0m\u001b[1;33m\u001b[0m\u001b[1;33m\u001b[0m\u001b[0m\n\u001b[1;32m---> 26\u001b[1;33m             \u001b[0mtime\u001b[0m\u001b[1;33m.\u001b[0m\u001b[0msleep\u001b[0m\u001b[1;33m(\u001b[0m\u001b[1;36m1\u001b[0m\u001b[1;33m)\u001b[0m\u001b[1;33m\u001b[0m\u001b[1;33m\u001b[0m\u001b[0m\n\u001b[0m\u001b[0;32m     27\u001b[0m \u001b[1;33m\u001b[0m\u001b[0m\n\u001b[0;32m     28\u001b[0m     \u001b[1;31m# Create order object\u001b[0m\u001b[1;33m\u001b[0m\u001b[1;33m\u001b[0m\u001b[1;33m\u001b[0m\u001b[0m\n",
      "\u001b[1;31mKeyboardInterrupt\u001b[0m: "
     ]
    }
   ],
   "source": [
    "for i, row in final.iterrows():\n",
    "    \n",
    "    df = final\n",
    "    Price = df.loc[i, 'Close']\n",
    "    SL = df.loc[i, 'Stop_Loss']\n",
    "    TP = df.loc[i, 'Take_Profit']\n",
    "    Asset = df.loc[i, 'Asset']\n",
    "    \n",
    "    app = IBapi()\n",
    "    app.connect('127.0.0.1', 7497, 123)\n",
    "\n",
    "    app.nextorderId = None\n",
    "\n",
    "    # Start the socket in a thread\n",
    "    api_thread = threading.Thread(target=run_loop, daemon=True)\n",
    "    api_thread.start()\n",
    "\n",
    "    # Check if the API is connected via orderid\n",
    "    while True:\n",
    "        if isinstance(app.nextorderId, int):\n",
    "            print('connected')\n",
    "            print()\n",
    "            break\n",
    "        else:\n",
    "            print('waiting for connection')\n",
    "            time.sleep(1)\n",
    "\n",
    "    # Create order object\n",
    "    order = Order()\n",
    "    order.action = 'BUY'\n",
    "    order.totalQuantity = 5\n",
    "    order.orderType = 'MIT'\n",
    "    order.lmtPrice = '153.40'\n",
    "    order.orderId = app.nextorderId\n",
    "    app.nextorderId += 1\n",
    "    order.transmit = False\n",
    "\n",
    "    # Create stop loss order object\n",
    "    stop_loss = Order()\n",
    "    stop_loss.action = 'SELL'\n",
    "    stop_loss.totalQuantity = 5\n",
    "    stop_loss.orderType = 'STP'\n",
    "    stop_loss.auxPrice = '149.2'  # STOP LOSS PRICE\n",
    "    stop_loss.orderId = app.nextorderId\n",
    "    app.nextorderId += 1\n",
    "    stop_loss.parentId = order.orderId\n",
    "    order.transmit = False\n",
    "\n",
    "    # Create take profit order object\n",
    "    take_profit = Order()\n",
    "    take_profit.action = 'SELL'\n",
    "    take_profit.totalQuantity = 5\n",
    "    take_profit.orderType = 'LMT'\n",
    "    take_profit.lmtPrice = '155'  # TAKE PROFIT PRICE\n",
    "    app.nextorderId += 1\n",
    "    take_profit.parentId = order.orderId\n",
    "    take_profit.transmit = True\n",
    "\n",
    "    #test mit\n",
    "    '''\n",
    "    Order order = new Order();\n",
    "    order.Action = action;\n",
    "    order.OrderType = \"MIT\";\n",
    "    order.TotalQuantity = quantity;\n",
    "    order.AuxPrice = price;\n",
    "    '''\n",
    "\n",
    "    # place orders\n",
    "    app.placeOrder(order.orderId, stx_order(Asset), order)\n",
    "    app.placeOrder(stop_loss.orderId, stx_order(Asset), stop_loss)\n",
    "    app.placeOrder(trailing.orderId, stx_order(Asset), trailing)\n",
    "    app.placeOrder(take_profit.orderId, stx_order(Asset), take_profit)\n",
    "\n",
    "    time.sleep(10)\n",
    "\n",
    "    # # cancel order\n",
    "    # print('\\nCancelling order...')\n",
    "    # app.cancelOrder(order.orderId)\n",
    "\n",
    "    time.sleep(3)\n",
    "    app.disconnect()"
   ]
  },
  {
   "cell_type": "code",
   "execution_count": null,
   "metadata": {},
   "outputs": [],
   "source": []
  },
  {
   "cell_type": "code",
   "execution_count": null,
   "metadata": {},
   "outputs": [],
   "source": []
  },
  {
   "cell_type": "code",
   "execution_count": null,
   "metadata": {},
   "outputs": [],
   "source": []
  },
  {
   "cell_type": "code",
   "execution_count": null,
   "metadata": {},
   "outputs": [],
   "source": []
  },
  {
   "cell_type": "code",
   "execution_count": null,
   "metadata": {},
   "outputs": [],
   "source": []
  },
  {
   "cell_type": "code",
   "execution_count": null,
   "metadata": {},
   "outputs": [],
   "source": []
  }
 ],
 "metadata": {
  "hide_input": false,
  "kernelspec": {
   "display_name": "Python 3",
   "language": "python",
   "name": "python3"
  },
  "language_info": {
   "codemirror_mode": {
    "name": "ipython",
    "version": 3
   },
   "file_extension": ".py",
   "mimetype": "text/x-python",
   "name": "python",
   "nbconvert_exporter": "python",
   "pygments_lexer": "ipython3",
   "version": "3.7.3"
  }
 },
 "nbformat": 4,
 "nbformat_minor": 2
}
